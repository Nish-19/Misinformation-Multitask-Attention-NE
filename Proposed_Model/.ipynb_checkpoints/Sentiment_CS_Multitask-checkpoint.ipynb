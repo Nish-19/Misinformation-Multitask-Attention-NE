{
 "cells": [
  {
   "cell_type": "code",
   "execution_count": null,
   "metadata": {
    "colab": {
     "base_uri": "https://localhost:8080/"
    },
    "id": "I4PnQF8MebH_",
    "outputId": "05523b6e-93d0-4875-e451-b6057d5736a9"
   },
   "outputs": [
    {
     "name": "stdout",
     "output_type": "stream",
     "text": [
      "Drive already mounted at /content/drive; to attempt to forcibly remount, call drive.mount(\"/content/drive\", force_remount=True).\n"
     ]
    }
   ],
   "source": [
    "# Loading drive\n",
    "from google.colab import drive\n",
    "drive.mount('/content/drive')"
   ]
  },
  {
   "cell_type": "code",
   "execution_count": null,
   "metadata": {
    "colab": {
     "base_uri": "https://localhost:8080/"
    },
    "id": "hxLZfL5CeiLi",
    "outputId": "46651944-b517-429e-dbf6-dc93d1bf34b6"
   },
   "outputs": [
    {
     "name": "stdout",
     "output_type": "stream",
     "text": [
      "2.4.1\n"
     ]
    }
   ],
   "source": [
    "%tensorflow_version 2.x\n",
    "import tensorflow as tf\n",
    "print(tf.__version__)"
   ]
  },
  {
   "cell_type": "code",
   "execution_count": null,
   "metadata": {
    "id": "PZozT18cekN2"
   },
   "outputs": [],
   "source": [
    "# All general imports\n",
    "import pandas as pd\n",
    "import numpy as np\n",
    "from sklearn.preprocessing import LabelEncoder\n",
    "from sklearn.preprocessing import LabelBinarizer \n",
    "\n",
    "import keras\n",
    "from keras.preprocessing.text import Tokenizer\n",
    "from keras.preprocessing.sequence import pad_sequences\n",
    "from keras.layers import Input, Embedding, Reshape, Conv2D, MaxPool2D, Concatenate, Flatten, Dropout, Dense, Bidirectional, GlobalAveragePooling1D, GRU, GlobalMaxPooling1D, concatenate\n",
    "from keras.optimizers import Adam\n",
    "from keras.layers import LSTM, GRU, Conv1D, MaxPool1D, Activation, Add\n",
    "\n",
    "from keras.models import Model, Sequential\n",
    "from keras.layers.core import SpatialDropout1D\n",
    "\n",
    "from keras.engine.topology import Layer\n",
    "from keras.layers import Dense, Input, Embedding, Dropout, Activation, Conv1D, Softmax\n",
    "from keras import initializers, regularizers, constraints, optimizers, layers\n",
    "from keras import backend as K\n",
    "\n",
    "from keras.callbacks import EarlyStopping\n",
    "\n",
    "from sklearn.model_selection import StratifiedKFold\n",
    "from sklearn.metrics import classification_report, accuracy_score\n",
    "import io, os, gc"
   ]
  },
  {
   "cell_type": "code",
   "execution_count": null,
   "metadata": {
    "colab": {
     "base_uri": "https://localhost:8080/"
    },
    "id": "OJv4rEjielZ_",
    "outputId": "8338fbd3-1497-4b65-b7b2-ad79b320f116"
   },
   "outputs": [
    {
     "name": "stdout",
     "output_type": "stream",
     "text": [
      "drive  sample_data\n",
      "/content/drive/My Drive/Fake_News_Data\n",
      "/content/drive/My Drive/Fake_News_Data\n"
     ]
    }
   ],
   "source": [
    "# Setting the working directory \n",
    "!ls\n",
    "%cd drive/My\\ Drive/Fake_News_Data\n",
    "!pwd"
   ]
  },
  {
   "cell_type": "code",
   "execution_count": null,
   "metadata": {
    "colab": {
     "base_uri": "https://localhost:8080/",
     "height": 551
    },
    "id": "rWnQUOPYemqf",
    "outputId": "d9aa87e1-908e-4e3d-b74f-d1c85a58df58"
   },
   "outputs": [
    {
     "name": "stdout",
     "output_type": "stream",
     "text": [
      "Index(['id', 'text', 'stance', 'Novelty_Quora', 'Emotion_Label',\n",
      "       'com_femotion', 'sentiment_scores_pre', 'sentiment_scores_hyp',\n",
      "       'sentiment_pre_labels', 'sentiment_hyp_labels', 'Combined_Sentiment'],\n",
      "      dtype='object')\n",
      "Index(['id', 'text', 'stance', 'Novelty_Quora', 'Emotion_Label',\n",
      "       'com_femotion', 'sentiment_scores_pre', 'sentiment_scores_hyp',\n",
      "       'sentiment_pre_labels', 'sentiment_hyp_labels', 'Combined_Sentiment'],\n",
      "      dtype='object')\n"
     ]
    },
    {
     "data": {
      "text/html": [
       "<div>\n",
       "<style scoped>\n",
       "    .dataframe tbody tr th:only-of-type {\n",
       "        vertical-align: middle;\n",
       "    }\n",
       "\n",
       "    .dataframe tbody tr th {\n",
       "        vertical-align: top;\n",
       "    }\n",
       "\n",
       "    .dataframe thead th {\n",
       "        text-align: right;\n",
       "    }\n",
       "</style>\n",
       "<table border=\"1\" class=\"dataframe\">\n",
       "  <thead>\n",
       "    <tr style=\"text-align: right;\">\n",
       "      <th></th>\n",
       "      <th>id</th>\n",
       "      <th>text</th>\n",
       "      <th>stance</th>\n",
       "      <th>Novelty_Quora</th>\n",
       "      <th>Emotion_Label</th>\n",
       "      <th>com_femotion</th>\n",
       "      <th>sentiment_scores_pre</th>\n",
       "      <th>sentiment_scores_hyp</th>\n",
       "      <th>sentiment_pre_labels</th>\n",
       "      <th>sentiment_hyp_labels</th>\n",
       "      <th>Combined_Sentiment</th>\n",
       "    </tr>\n",
       "  </thead>\n",
       "  <tbody>\n",
       "    <tr>\n",
       "      <th>0</th>\n",
       "      <td>1.250000e+18</td>\n",
       "      <td>what is the reason the cdc is hiding info re h...</td>\n",
       "      <td>2</td>\n",
       "      <td>0</td>\n",
       "      <td>1</td>\n",
       "      <td>1</td>\n",
       "      <td>0.235415</td>\n",
       "      <td>-0.383100</td>\n",
       "      <td>1</td>\n",
       "      <td>0</td>\n",
       "      <td>1</td>\n",
       "    </tr>\n",
       "    <tr>\n",
       "      <th>1</th>\n",
       "      <td>1.250000e+18</td>\n",
       "      <td>so you are denying that dr vladimir zelenko is...</td>\n",
       "      <td>2</td>\n",
       "      <td>1</td>\n",
       "      <td>0</td>\n",
       "      <td>1</td>\n",
       "      <td>0.235415</td>\n",
       "      <td>-0.224130</td>\n",
       "      <td>1</td>\n",
       "      <td>0</td>\n",
       "      <td>1</td>\n",
       "    </tr>\n",
       "    <tr>\n",
       "      <th>2</th>\n",
       "      <td>1.250000e+18</td>\n",
       "      <td>anyone whos been to a malaria area would in th...</td>\n",
       "      <td>2</td>\n",
       "      <td>1</td>\n",
       "      <td>1</td>\n",
       "      <td>1</td>\n",
       "      <td>0.235415</td>\n",
       "      <td>0.161940</td>\n",
       "      <td>1</td>\n",
       "      <td>1</td>\n",
       "      <td>0</td>\n",
       "    </tr>\n",
       "    <tr>\n",
       "      <th>3</th>\n",
       "      <td>1.260000e+18</td>\n",
       "      <td>many countries preceded us in adopting chloroq...</td>\n",
       "      <td>2</td>\n",
       "      <td>1</td>\n",
       "      <td>1</td>\n",
       "      <td>1</td>\n",
       "      <td>0.235415</td>\n",
       "      <td>0.121797</td>\n",
       "      <td>1</td>\n",
       "      <td>1</td>\n",
       "      <td>0</td>\n",
       "    </tr>\n",
       "    <tr>\n",
       "      <th>4</th>\n",
       "      <td>1.260000e+18</td>\n",
       "      <td>those who proselytize against hydroxychloroqui...</td>\n",
       "      <td>2</td>\n",
       "      <td>1</td>\n",
       "      <td>1</td>\n",
       "      <td>1</td>\n",
       "      <td>0.235415</td>\n",
       "      <td>-0.481030</td>\n",
       "      <td>1</td>\n",
       "      <td>0</td>\n",
       "      <td>1</td>\n",
       "    </tr>\n",
       "  </tbody>\n",
       "</table>\n",
       "</div>"
      ],
      "text/plain": [
       "             id  ... Combined_Sentiment\n",
       "0  1.250000e+18  ...                  1\n",
       "1  1.250000e+18  ...                  1\n",
       "2  1.250000e+18  ...                  0\n",
       "3  1.260000e+18  ...                  0\n",
       "4  1.260000e+18  ...                  1\n",
       "\n",
       "[5 rows x 11 columns]"
      ]
     },
     "execution_count": 5,
     "metadata": {
      "tags": []
     },
     "output_type": "execute_result"
    }
   ],
   "source": [
    "#################### Importing CS Datasets ####################\n",
    "# Train set\n",
    "train_df = pd.read_csv('CS_Data//cstance_train.csv')\n",
    "print(train_df.columns)\n",
    "train_df.head()\n",
    "\n",
    "# Test set\n",
    "test_df = pd.read_csv('CS_Data/cstance_test_new.csv')\n",
    "print(test_df.columns)\n",
    "test_df.head()"
   ]
  },
  {
   "cell_type": "code",
   "execution_count": null,
   "metadata": {
    "colab": {
     "base_uri": "https://localhost:8080/"
    },
    "id": "vWWO0xXpRFpg",
    "outputId": "eaae7344-977d-4052-c4b4-d36f7637c8e0"
   },
   "outputs": [
    {
     "name": "stdout",
     "output_type": "stream",
     "text": [
      "Premise (8572, 768)\n",
      "Hypothesis (8572, 768)\n"
     ]
    }
   ],
   "source": [
    "pre_bert_cs = np.load(\"CS_Data/pre_bert_cs.npy\")\n",
    "hyp_bert_cs = np.load(\"CS_Data/hyp_bert_cs.npy\")\n",
    "print('Premise', pre_bert_cs.shape)\n",
    "print('Hypothesis', hyp_bert_cs.shape)"
   ]
  },
  {
   "cell_type": "code",
   "execution_count": null,
   "metadata": {
    "colab": {
     "base_uri": "https://localhost:8080/"
    },
    "id": "T5f0hhqgRN90",
    "outputId": "1de2e1fb-4909-4dfd-c397-ff30f17f3ebc"
   },
   "outputs": [
    {
     "name": "stdout",
     "output_type": "stream",
     "text": [
      "Premise (2494, 768)\n",
      "Hypothesis (2494, 768)\n"
     ]
    }
   ],
   "source": [
    "pre_bert_cs_test = np.load(\"CS_Data/pre_bert_test_cs.npy\")\n",
    "hyp_bert_cs_test = np.load(\"CS_Data/hyp_bert_test_cs.npy\")\n",
    "print('Premise', pre_bert_cs_test.shape)\n",
    "print('Hypothesis', hyp_bert_cs_test.shape)"
   ]
  },
  {
   "cell_type": "code",
   "execution_count": null,
   "metadata": {
    "colab": {
     "base_uri": "https://localhost:8080/"
    },
    "id": "Q4EYflXhenGe",
    "outputId": "d2b338a2-6604-47ac-ed70-1bddccca6f81"
   },
   "outputs": [
    {
     "name": "stdout",
     "output_type": "stream",
     "text": [
      "8572\n",
      "7130\n",
      "Train Length is 7131\n",
      "Test merged 2364\n",
      "Dataset length is 9495\n"
     ]
    }
   ],
   "source": [
    "premise = [\"chloroquine hydroxychloroquine are cure for the novel coronavirus\"]\n",
    "train_lst_1 = train_df['text'].tolist()\n",
    "print(len(train_lst_1))\n",
    "train_lst_1[:5]\n",
    "uq_tr_1 = list(set(train_lst_1))\n",
    "print(len(uq_tr_1))\n",
    "train_merged = uq_tr_1 + premise\n",
    "print('Train Length is', len(train_merged))\n",
    "train_merged[:5]\n",
    "test_lst_1 = test_df['text'].tolist()\n",
    "uq_ts_1 = list(set(test_lst_1))\n",
    "test_merged = uq_ts_1\n",
    "print('Test merged', len(test_merged))\n",
    "total_dataset = train_merged + test_merged\n",
    "print('Dataset length is', len(total_dataset))"
   ]
  },
  {
   "cell_type": "code",
   "execution_count": null,
   "metadata": {
    "id": "meWhyKcRevx3"
   },
   "outputs": [],
   "source": [
    "# Defining the tokenizer\n",
    "def get_tokenizer(vocabulary_size):\n",
    "  print('Training tokenizer...')\n",
    "  tokenizer = Tokenizer(num_words= vocabulary_size)\n",
    "  tweet_text = []\n",
    "  print('Read {} Sentences'.format(len(total_dataset)))\n",
    "  tokenizer.fit_on_texts(total_dataset)\n",
    "  return tokenizer"
   ]
  },
  {
   "cell_type": "code",
   "execution_count": null,
   "metadata": {
    "id": "XkyCuvNCeyg3"
   },
   "outputs": [],
   "source": [
    "# For getting the embedding matrix\n",
    "def get_embeddings():\n",
    "  print('Generating embeddings matrix...')\n",
    "  embeddings_file = '../resources/glove.6B.300d.txt'\n",
    "  embeddings_index = dict()\n",
    "  with open(embeddings_file, 'r', encoding=\"utf-8\") as infile:\n",
    "    for line in infile:\n",
    "      values = line.split()\n",
    "      word = values[0]\n",
    "      vector = np.asarray(values[1:], \"float32\")\n",
    "      embeddings_index[word] = vector\n",
    "\t# create a weight matrix for words in training docs\n",
    "  vocabulary_size = len(embeddings_index)\n",
    "  embeddinds_size = list(embeddings_index.values())[0].shape[0]\n",
    "  print('Vocabulary = {}, embeddings = {}'.format(vocabulary_size, embeddinds_size))\n",
    "  tokenizer = get_tokenizer(vocabulary_size)\n",
    "  embedding_matrix = np.zeros((vocabulary_size, embeddinds_size))\n",
    "  considered = 0\n",
    "  total = len(tokenizer.word_index.items())\n",
    "  for word, index in tokenizer.word_index.items():\n",
    "    if index > vocabulary_size - 1:\n",
    "      print(word, index)\n",
    "      continue\n",
    "    else:\n",
    "      embedding_vector = embeddings_index.get(word)\n",
    "      if embedding_vector is not None:\n",
    "        embedding_matrix[index] = embedding_vector\n",
    "        considered += 1\n",
    "  print('Considered ', considered, 'Left ', total - considered)\t\t\t\n",
    "  return embedding_matrix, tokenizer, embeddings_index"
   ]
  },
  {
   "cell_type": "code",
   "execution_count": null,
   "metadata": {
    "id": "1GMIfPY6ezOu"
   },
   "outputs": [],
   "source": [
    "def get_data(tokenizer, MAX_LENGTH, input_df):\n",
    "  print('Loading data')\n",
    "  X1, X2, Y = [], [], []\n",
    "  X2 = input_df['text'].tolist()\n",
    "  length = len(X2)\n",
    "  premise = \"chloroquine hydroxychloroquine are cure for the novel coronavirus\"\n",
    "  X1 = [premise for i in range(length)]\n",
    "  Y = input_df['stance'].tolist()\n",
    "  new_Y = [(ele-1) for ele in Y]\n",
    "  assert len(new_Y) == len(Y)\n",
    "  Y_nv = input_df['Novelty_Quora']\n",
    "  Y_em = input_df['com_femotion']\n",
    "  Y_st = input_df['Combined_Sentiment']\n",
    "  \n",
    "  len(X1) == len(X2) == len(Y)\n",
    "  sequences_1 = tokenizer.texts_to_sequences(X1)\n",
    "  sequences_2 = tokenizer.texts_to_sequences(X2)\n",
    "  X1 = pad_sequences(sequences_1, maxlen=MAX_LENGTH)\n",
    "  X2 = pad_sequences(sequences_2, maxlen=MAX_LENGTH)\n",
    "  new_Y = np.array(new_Y)\n",
    "  Y_nv = np.stack(Y_nv)\n",
    "  Y_em = np.stack(Y_em)\n",
    "  Y_st = np.stack(Y_st)\n",
    "  return X1, X2, new_Y, Y_nv, Y_em, Y_st"
   ]
  },
  {
   "cell_type": "code",
   "execution_count": null,
   "metadata": {
    "colab": {
     "base_uri": "https://localhost:8080/"
    },
    "id": "4eElwimPfLJT",
    "outputId": "9a95a26a-f3cd-4da4-b51c-61ef449197a3"
   },
   "outputs": [
    {
     "name": "stdout",
     "output_type": "stream",
     "text": [
      "Generating embeddings matrix...\n",
      "Vocabulary = 400000, embeddings = 300\n",
      "Training tokenizer...\n",
      "Read 9495 Sentences\n",
      "Considered  11908 Left  4553\n"
     ]
    }
   ],
   "source": [
    "embedding_matrix, tokenizer, embeddings_index = get_embeddings()"
   ]
  },
  {
   "cell_type": "code",
   "execution_count": null,
   "metadata": {
    "colab": {
     "base_uri": "https://localhost:8080/"
    },
    "id": "h4jMgjWufM4f",
    "outputId": "4aa476cc-d549-4a43-d72a-bfbc8db94a9d"
   },
   "outputs": [
    {
     "name": "stdout",
     "output_type": "stream",
     "text": [
      "Loading data\n"
     ]
    }
   ],
   "source": [
    "MAX_LENGTH = 40\n",
    "# read ml data\n",
    "X1, X2, Y_cs, Y_nv, Y_em, Y_st = get_data(tokenizer, MAX_LENGTH, train_df)"
   ]
  },
  {
   "cell_type": "code",
   "execution_count": null,
   "metadata": {
    "colab": {
     "base_uri": "https://localhost:8080/"
    },
    "id": "zVVM09JQfTge",
    "outputId": "862fa487-c84c-46f9-9dc3-2752e29553e0"
   },
   "outputs": [
    {
     "name": "stdout",
     "output_type": "stream",
     "text": [
      "Loading data\n"
     ]
    }
   ],
   "source": [
    "X1_test, X2_test, Y_cs_test, Y_nv_test, Y_em_test, Y_st_test = get_data(tokenizer, MAX_LENGTH, test_df)"
   ]
  },
  {
   "cell_type": "code",
   "execution_count": null,
   "metadata": {
    "id": "C3zUMM11-lNk"
   },
   "outputs": [],
   "source": [
    "# Scaffold labels\n",
    "novel = embeddings_index['original']\n",
    "duplicate = embeddings_index['duplicate']\n",
    "emotion_true = embeddings_index['anticipation']+embeddings_index['sadness']+embeddings_index['joy']+embeddings_index['trust']\n",
    "emotion_false = embeddings_index['anger']+embeddings_index['fear']+embeddings_index['disgust']+embeddings_index['surprise']\n",
    "sentiment_pos = embeddings_index['positive']\n",
    "sentiment_neg = embeddings_index['negative']"
   ]
  },
  {
   "cell_type": "code",
   "execution_count": null,
   "metadata": {
    "colab": {
     "base_uri": "https://localhost:8080/"
    },
    "id": "-KJGTPy3-azf",
    "outputId": "d217e135-75b4-40de-da99-bc34b04b710e"
   },
   "outputs": [
    {
     "name": "stdout",
     "output_type": "stream",
     "text": [
      "Train bias (8572, 300)\n",
      "Test bias (2494, 300)\n"
     ]
    }
   ],
   "source": [
    "# Novelty Bias\n",
    "train_bias_nv = []\n",
    "test_bias_nv = []\n",
    "zero_vector = np.zeros((300,))\n",
    "for i, row in train_df.iterrows():\n",
    "    if row['Novelty_Quora'] == 0:\n",
    "        train_bias_nv.append(novel)\n",
    "    elif row['Novelty_Quora'] == 1:\n",
    "        train_bias_nv.append(duplicate)\n",
    "    else:\n",
    "        train_bias_nv.append(zero_vector)\n",
    "for i, row in test_df.iterrows():\n",
    "    if row['Novelty_Quora'] == 0:\n",
    "        test_bias_nv.append(novel)\n",
    "    elif row['Novelty_Quora'] == 1:\n",
    "        test_bias_nv.append(duplicate)\n",
    "    else:\n",
    "        test_bias_nv.append(zero_vector)\n",
    "train_bias_nv = np.stack(train_bias_nv)\n",
    "test_bias_nv = np.stack(test_bias_nv)\n",
    "print('Train bias', train_bias_nv.shape)\n",
    "print('Test bias', test_bias_nv.shape)"
   ]
  },
  {
   "cell_type": "code",
   "execution_count": null,
   "metadata": {
    "colab": {
     "base_uri": "https://localhost:8080/"
    },
    "id": "HH9Q7_d-_5jm",
    "outputId": "6a43caac-972f-4701-955d-ec628c8a0529"
   },
   "outputs": [
    {
     "name": "stdout",
     "output_type": "stream",
     "text": [
      "Train bias (8572, 300)\n",
      "Test bias (2494, 300)\n"
     ]
    }
   ],
   "source": [
    "# Emotion Labels\n",
    "train_bias_em = []\n",
    "test_bias_em = []\n",
    "zero_vector = np.zeros((300,))\n",
    "for i in range(len(train_df)):\n",
    "    hyp = train_df.loc[i, 'com_femotion']\n",
    "    if hyp == 0 and train_df.loc[i, 'stance'] == 1:\n",
    "        train_bias_em.append(emotion_true)\n",
    "    # elif hyp == 0 and train_df.loc[i, 'stance'] == 2:\n",
    "    #     train_bias_em.append(emotion_true)\n",
    "    elif hyp == 1 and train_df.loc[i, 'stance'] == 2:\n",
    "        train_bias_em.append(emotion_false)\n",
    "    else:\n",
    "        #print('in here')\n",
    "        train_bias_em.append(zero_vector)\n",
    "for i in range(len(test_df)):\n",
    "    hyp = test_df.loc[i, 'com_femotion']\n",
    "    if hyp == 0 and test_df.loc[i, 'stance'] == 1:\n",
    "        test_bias_em.append(emotion_true)\n",
    "    # elif hyp == 0 and test_df.loc[i, 'stance'] == 2:\n",
    "    #     test_bias_em.append(emotion_true)\n",
    "    elif hyp == 1 and test_df.loc[i, 'stance'] == 2:\n",
    "        test_bias_em.append(emotion_false)\n",
    "    else:\n",
    "        test_bias_em.append(zero_vector)\n",
    "train_bias_em = np.stack(train_bias_em)\n",
    "test_bias_em = np.stack(test_bias_em)\n",
    "print('Train bias', train_bias_em.shape)\n",
    "print('Test bias', test_bias_em.shape)"
   ]
  },
  {
   "cell_type": "code",
   "execution_count": null,
   "metadata": {
    "colab": {
     "base_uri": "https://localhost:8080/"
    },
    "id": "IBLy9LfhTEbp",
    "outputId": "a11b217d-cb13-46af-e36b-9bb844f2bb28"
   },
   "outputs": [
    {
     "name": "stdout",
     "output_type": "stream",
     "text": [
      "Train bias (8572, 300)\n",
      "Test bias (2494, 300)\n"
     ]
    }
   ],
   "source": [
    "# Sentiment Bias\n",
    "train_bias_st = []\n",
    "test_bias_st = []\n",
    "zero_vector = np.zeros((300,))\n",
    "for i in range(len(train_df)):\n",
    "    hyp = train_df.loc[i, 'Combined_Sentiment']\n",
    "    if hyp == 1 and train_df.loc[i, 'stance'] == 1:\n",
    "        train_bias_st.append(sentiment_neg)\n",
    "    # elif hyp == 0 and train_df.loc[i, 'stance'] == 2:\n",
    "    #     train_bias_em.append(emotion_true)\n",
    "    elif hyp == 0 and train_df.loc[i, 'stance'] == 2:\n",
    "        train_bias_st.append(sentiment_pos)\n",
    "    else:\n",
    "        #print('in here')\n",
    "        train_bias_st.append(zero_vector)\n",
    "for i in range(len(test_df)):\n",
    "    hyp = test_df.loc[i, 'Combined_Sentiment']\n",
    "    if hyp == 1 and test_df.loc[i, 'stance'] == 1:\n",
    "        test_bias_st.append(sentiment_neg)\n",
    "    # elif hyp == 0 and test_df.loc[i, 'stance'] == 2:\n",
    "    #     test_bias_em.append(emotion_true)\n",
    "    elif hyp == 0 and test_df.loc[i, 'stance'] == 2:\n",
    "        test_bias_st.append(sentiment_pos)\n",
    "    else:\n",
    "        test_bias_st.append(zero_vector)\n",
    "train_bias_st = np.stack(train_bias_st)\n",
    "test_bias_st = np.stack(test_bias_st)\n",
    "print('Train bias', train_bias_st.shape)\n",
    "print('Test bias', test_bias_st.shape)"
   ]
  },
  {
   "cell_type": "code",
   "execution_count": null,
   "metadata": {
    "id": "k6DGfMf4A3b4"
   },
   "outputs": [],
   "source": [
    "# Considering the final train and test bias\n",
    "# train_bias = np.add(train_bias_nv, train_bias_em, train_bias_st)\n",
    "# test_bias = np.add(test_bias_nv, test_bias_em, test_bias_st)\n",
    "# train_bias = np.add(train_bias_nv, train_bias_em)\n",
    "# test_bias = np.add(test_bias_nv, test_bias_em)\n",
    "train_bias = np.add(train_bias_nv, train_bias_st)\n",
    "test_bias = np.add(test_bias_nv, test_bias_st)"
   ]
  },
  {
   "cell_type": "code",
   "execution_count": null,
   "metadata": {
    "colab": {
     "base_uri": "https://localhost:8080/"
    },
    "id": "8gKgpV9cfZIB",
    "outputId": "2839160f-3418-4644-f8b6-17207d8921cf"
   },
   "outputs": [
    {
     "name": "stdout",
     "output_type": "stream",
     "text": [
      "[[0. 1.]\n",
      " [0. 1.]\n",
      " [0. 1.]\n",
      " ...\n",
      " [1. 0.]\n",
      " [1. 0.]\n",
      " [1. 0.]]\n",
      "[[0. 1.]\n",
      " [1. 0.]\n",
      " [1. 0.]\n",
      " ...\n",
      " [1. 0.]\n",
      " [0. 1.]\n",
      " [1. 0.]]\n",
      "[[0. 1.]\n",
      " [0. 1.]\n",
      " [0. 1.]\n",
      " ...\n",
      " [1. 0.]\n",
      " [1. 0.]\n",
      " [1. 0.]]\n",
      "[[0. 1.]\n",
      " [0. 1.]\n",
      " [1. 0.]\n",
      " ...\n",
      " [0. 1.]\n",
      " [0. 1.]\n",
      " [1. 0.]]\n",
      "[[1. 0.]\n",
      " [0. 1.]\n",
      " [0. 1.]\n",
      " ...\n",
      " [0. 1.]\n",
      " [0. 1.]\n",
      " [0. 1.]]\n",
      "[[0. 1.]\n",
      " [0. 1.]\n",
      " [0. 1.]\n",
      " ...\n",
      " [0. 1.]\n",
      " [1. 0.]\n",
      " [1. 0.]]\n",
      "[[0. 1.]\n",
      " [0. 1.]\n",
      " [0. 1.]\n",
      " ...\n",
      " [0. 1.]\n",
      " [1. 0.]\n",
      " [1. 0.]]\n",
      "[[0. 1.]\n",
      " [0. 1.]\n",
      " [1. 0.]\n",
      " ...\n",
      " [1. 0.]\n",
      " [0. 1.]\n",
      " [0. 1.]]\n"
     ]
    }
   ],
   "source": [
    "# Creating one-hot encodings\n",
    "y_train_nv = keras.utils.to_categorical(Y_nv)\n",
    "print(y_train_nv)\n",
    "y_train_em = keras.utils.to_categorical(Y_em)\n",
    "print(y_train_em)\n",
    "y_train_cs = keras.utils.to_categorical(Y_cs)\n",
    "print(y_train_cs)\n",
    "y_train_st = keras.utils.to_categorical(Y_st)\n",
    "print(y_train_st)\n",
    "y_test_nv = keras.utils.to_categorical(Y_nv_test)\n",
    "print(y_test_nv)\n",
    "y_test_em = keras.utils.to_categorical(Y_em_test)\n",
    "print(y_test_em)\n",
    "y_test_cs = keras.utils.to_categorical(Y_cs_test)\n",
    "print(y_test_cs)\n",
    "y_test_st = keras.utils.to_categorical(Y_st_test)\n",
    "print(y_test_st)"
   ]
  },
  {
   "cell_type": "code",
   "execution_count": null,
   "metadata": {
    "id": "DkKuiVmgfhGR"
   },
   "outputs": [],
   "source": [
    "from sklearn.model_selection import train_test_split\n",
    "VALIDATION_RATIO = 0.1\n",
    "RANDOM_STATE = 9527\n",
    "x1_train, x1_val, \\\n",
    "x2_train, x2_val, \\\n",
    "x1_train_bert, x1_val_bert, \\\n",
    "x2_train_bert, x2_val_bert, \\\n",
    "y_train_nv, y_val_nv, \\\n",
    "y_train_em, y_val_em, \\\n",
    "y_train_st, y_val_st, \\\n",
    "y_train_cs, y_val_cs, \\\n",
    "train_bias, val_bias = \\\n",
    "    train_test_split(\n",
    "        X1, X2, \n",
    "        pre_bert_cs, hyp_bert_cs,\n",
    "        y_train_nv, y_train_em, y_train_st,\n",
    "        y_train_cs, train_bias,\n",
    "        test_size=VALIDATION_RATIO, \n",
    "        random_state=RANDOM_STATE\n",
    ")"
   ]
  },
  {
   "cell_type": "code",
   "execution_count": null,
   "metadata": {
    "colab": {
     "base_uri": "https://localhost:8080/"
    },
    "id": "0cNMxtB4foeI",
    "outputId": "fd3d17e5-8e31-4a21-9337-f0767c94c89a"
   },
   "outputs": [
    {
     "name": "stdout",
     "output_type": "stream",
     "text": [
      "Training Set\n",
      "----------\n",
      "x1_train: (7714, 40)\n",
      "x2_train: (7714, 40)\n",
      "y_train_cs : (7714, 2)\n",
      "Train_Bias : (7714, 300)\n",
      "----------\n",
      "x1_val:   (858, 40)\n",
      "x2_val:   (858, 40)\n",
      "y_val_cs :   (858, 2)\n",
      "Val_Bias : (858, 300)\n",
      "----------\n",
      "Test Set\n"
     ]
    }
   ],
   "source": [
    "print(\"Training Set\")\n",
    "print(\"-\" * 10)\n",
    "print(f\"x1_train: {x1_train.shape}\")\n",
    "print(f\"x2_train: {x2_train.shape}\")\n",
    "print(f\"y_train_cs : {y_train_cs.shape}\")\n",
    "print(f\"Train_Bias : {train_bias.shape}\")\n",
    "\n",
    "print(\"-\" * 10)\n",
    "print(f\"x1_val:   {x1_val.shape}\")\n",
    "print(f\"x2_val:   {x2_val.shape}\")\n",
    "print(f\"y_val_cs :   {y_val_cs.shape}\")\n",
    "print(f\"Val_Bias : {val_bias.shape}\")\n",
    "print(\"-\" * 10)\n",
    "print(\"Test Set\")"
   ]
  },
  {
   "cell_type": "code",
   "execution_count": null,
   "metadata": {
    "id": "9gWOhyZNfuSa"
   },
   "outputs": [],
   "source": [
    "NUM_CLASSES = 2\n",
    "\n",
    "MAX_SEQUENCE_LENGTH = 40\n",
    "\n",
    "NUM_LSTM_UNITS = 300\n",
    "\n",
    "MAX_NUM_WORDS = embedding_matrix.shape[0]\n",
    "\n",
    "NUM_EMBEDDING_DIM = embedding_matrix.shape[1]"
   ]
  },
  {
   "cell_type": "code",
   "execution_count": null,
   "metadata": {
    "colab": {
     "base_uri": "https://localhost:8080/"
    },
    "id": "PsTR-5_WRrZs",
    "outputId": "d1b96acd-7d61-4cbf-92f1-e8d03f228fe4"
   },
   "outputs": [
    {
     "name": "stdout",
     "output_type": "stream",
     "text": [
      "WARNING:tensorflow:Layer lstm will not use cuDNN kernel since it doesn't meet the cuDNN kernel criteria. It will use generic GPU kernel as fallback when running on GPU\n",
      "WARNING:tensorflow:Layer lstm will not use cuDNN kernel since it doesn't meet the cuDNN kernel criteria. It will use generic GPU kernel as fallback when running on GPU\n",
      "WARNING:tensorflow:Layer lstm will not use cuDNN kernel since it doesn't meet the cuDNN kernel criteria. It will use generic GPU kernel as fallback when running on GPU\n",
      "WARNING:tensorflow:Layer lstm_1 will not use cuDNN kernel since it doesn't meet the cuDNN kernel criteria. It will use generic GPU kernel as fallback when running on GPU\n",
      "WARNING:tensorflow:Layer lstm_1 will not use cuDNN kernel since it doesn't meet the cuDNN kernel criteria. It will use generic GPU kernel as fallback when running on GPU\n",
      "WARNING:tensorflow:Layer lstm_1 will not use cuDNN kernel since it doesn't meet the cuDNN kernel criteria. It will use generic GPU kernel as fallback when running on GPU\n",
      "WARNING:tensorflow:Layer lstm_2 will not use cuDNN kernel since it doesn't meet the cuDNN kernel criteria. It will use generic GPU kernel as fallback when running on GPU\n",
      "WARNING:tensorflow:Layer lstm_2 will not use cuDNN kernel since it doesn't meet the cuDNN kernel criteria. It will use generic GPU kernel as fallback when running on GPU\n",
      "WARNING:tensorflow:Layer lstm_2 will not use cuDNN kernel since it doesn't meet the cuDNN kernel criteria. It will use generic GPU kernel as fallback when running on GPU\n",
      "WARNING:tensorflow:Layer lstm_3 will not use cuDNN kernel since it doesn't meet the cuDNN kernel criteria. It will use generic GPU kernel as fallback when running on GPU\n",
      "WARNING:tensorflow:Layer lstm_3 will not use cuDNN kernel since it doesn't meet the cuDNN kernel criteria. It will use generic GPU kernel as fallback when running on GPU\n",
      "WARNING:tensorflow:Layer lstm_3 will not use cuDNN kernel since it doesn't meet the cuDNN kernel criteria. It will use generic GPU kernel as fallback when running on GPU\n",
      "Model: \"model\"\n",
      "__________________________________________________________________________________________________\n",
      "Layer (type)                    Output Shape         Param #     Connected to                     \n",
      "==================================================================================================\n",
      "input_1 (InputLayer)            [(None, 40)]         0                                            \n",
      "__________________________________________________________________________________________________\n",
      "input_2 (InputLayer)            [(None, 40)]         0                                            \n",
      "__________________________________________________________________________________________________\n",
      "input_3 (InputLayer)            [(None, 768)]        0                                            \n",
      "__________________________________________________________________________________________________\n",
      "input_4 (InputLayer)            [(None, 768)]        0                                            \n",
      "__________________________________________________________________________________________________\n",
      "embedding (Embedding)           (None, 40, 300)      120000000   input_1[0][0]                    \n",
      "                                                                 input_2[0][0]                    \n",
      "__________________________________________________________________________________________________\n",
      "reshape (Reshape)               (None, 1, 768)       0           input_3[0][0]                    \n",
      "__________________________________________________________________________________________________\n",
      "reshape_1 (Reshape)             (None, 1, 768)       0           input_4[0][0]                    \n",
      "__________________________________________________________________________________________________\n",
      "bidirectional (Bidirectional)   (None, 40, 300)      541200      embedding[0][0]                  \n",
      "                                                                 embedding[1][0]                  \n",
      "__________________________________________________________________________________________________\n",
      "bidirectional_2 (Bidirectional) (None, 1, 300)       1102800     reshape[0][0]                    \n",
      "                                                                 reshape_1[0][0]                  \n",
      "__________________________________________________________________________________________________\n",
      "concatenate (Concatenate)       (None, 40, 600)      0           bidirectional[0][0]              \n",
      "                                                                 bidirectional[1][0]              \n",
      "__________________________________________________________________________________________________\n",
      "concatenate_1 (Concatenate)     (None, 1, 600)       0           bidirectional_2[0][0]            \n",
      "                                                                 bidirectional_2[1][0]            \n",
      "__________________________________________________________________________________________________\n",
      "bidirectional_1 (Bidirectional) (None, 300)          901200      concatenate[0][0]                \n",
      "__________________________________________________________________________________________________\n",
      "bidirectional_3 (Bidirectional) (None, 300)          901200      concatenate_1[0][0]              \n",
      "__________________________________________________________________________________________________\n",
      "tf.__operators__.add_1 (TFOpLam (None, 300)          0           bidirectional_1[0][0]            \n",
      "                                                                 bidirectional_3[0][0]            \n",
      "__________________________________________________________________________________________________\n",
      "input_5 (InputLayer)            [(None, 300)]        0                                            \n",
      "__________________________________________________________________________________________________\n",
      "tf.math.multiply_1 (TFOpLambda) (None, 300)          0           bidirectional_1[0][0]            \n",
      "                                                                 bidirectional_3[0][0]            \n",
      "__________________________________________________________________________________________________\n",
      "tf.__operators__.add (TFOpLambd (None, 300)          0           bidirectional_1[0][0]            \n",
      "                                                                 bidirectional_3[0][0]            \n",
      "__________________________________________________________________________________________________\n",
      "tf.math.subtract (TFOpLambda)   (None, 300)          0           bidirectional_1[0][0]            \n",
      "                                                                 bidirectional_3[0][0]            \n",
      "__________________________________________________________________________________________________\n",
      "tf.math.multiply (TFOpLambda)   (None, 300)          0           bidirectional_1[0][0]            \n",
      "                                                                 bidirectional_3[0][0]            \n",
      "__________________________________________________________________________________________________\n",
      "tf.__operators__.add_2 (TFOpLam (None, 300)          0           tf.__operators__.add_1[0][0]     \n",
      "                                                                 input_5[0][0]                    \n",
      "__________________________________________________________________________________________________\n",
      "tf.math.multiply_2 (TFOpLambda) (None, 300)          0           tf.math.multiply_1[0][0]         \n",
      "                                                                 input_5[0][0]                    \n",
      "__________________________________________________________________________________________________\n",
      "concatenate_2 (Concatenate)     (None, 900)          0           tf.__operators__.add[0][0]       \n",
      "                                                                 tf.math.subtract[0][0]           \n",
      "                                                                 tf.math.multiply[0][0]           \n",
      "__________________________________________________________________________________________________\n",
      "concatenate_3 (Concatenate)     (None, 600)          0           tf.__operators__.add_2[0][0]     \n",
      "                                                                 tf.math.multiply_2[0][0]         \n",
      "__________________________________________________________________________________________________\n",
      "pre_nv (Dense)                  (None, 64)           57664       concatenate_2[0][0]              \n",
      "__________________________________________________________________________________________________\n",
      "pre_em (Dense)                  (None, 64)           57664       concatenate_2[0][0]              \n",
      "__________________________________________________________________________________________________\n",
      "pre_st (Dense)                  (None, 64)           57664       concatenate_2[0][0]              \n",
      "__________________________________________________________________________________________________\n",
      "pre_cs (Dense)                  (None, 64)           38464       concatenate_3[0][0]              \n",
      "__________________________________________________________________________________________________\n",
      "nv (Dense)                      (None, 2)            130         pre_nv[0][0]                     \n",
      "__________________________________________________________________________________________________\n",
      "em (Dense)                      (None, 2)            130         pre_em[0][0]                     \n",
      "__________________________________________________________________________________________________\n",
      "st (Dense)                      (None, 2)            130         pre_st[0][0]                     \n",
      "__________________________________________________________________________________________________\n",
      "cs (Dense)                      (None, 2)            130         pre_cs[0][0]                     \n",
      "==================================================================================================\n",
      "Total params: 123,658,376\n",
      "Trainable params: 123,658,376\n",
      "Non-trainable params: 0\n",
      "__________________________________________________________________________________________________\n"
     ]
    }
   ],
   "source": [
    "# BERT + Normal Grand Model\n",
    "\n",
    "NUM_LSTM_UNITS = 150\n",
    "\n",
    "top_input_wd = Input(\n",
    "    shape=(MAX_SEQUENCE_LENGTH, ), \n",
    "    dtype='int32')\n",
    "bm_input_wd = Input(\n",
    "    shape=(MAX_SEQUENCE_LENGTH, ), \n",
    "    dtype='int32')\n",
    "\n",
    "embedding_layer = Embedding(\n",
    "    MAX_NUM_WORDS, NUM_EMBEDDING_DIM, weights = [embedding_matrix], trainable = True)\n",
    "top_embedded_wd = embedding_layer(\n",
    "    top_input_wd)\n",
    "bm_embedded_wd = embedding_layer(\n",
    "    bm_input_wd)\n",
    "\n",
    "source_lstm_wd = Bidirectional(LSTM(NUM_LSTM_UNITS, return_sequences=True, recurrent_dropout = 0.3))\n",
    "shared_lstm_wd = Bidirectional(LSTM(NUM_LSTM_UNITS, activation='tanh', recurrent_dropout = 0.3))\n",
    "top_source_wd = source_lstm_wd(top_embedded_wd)\n",
    "bm_source_wd = source_lstm_wd(bm_embedded_wd)\n",
    "\n",
    "source_comb_wd = concatenate(\n",
    "    [top_source_wd, bm_source_wd],\n",
    "    axis=-1\n",
    "    )\n",
    "lstm_ops_wd = shared_lstm_wd(source_comb_wd)   # 300D vector\n",
    "\n",
    "\n",
    "top_input_bt = Input(\n",
    "    shape=(768, ), \n",
    "    dtype='float32')\n",
    "bm_input_bt = Input(\n",
    "    shape=(768, ), \n",
    "    dtype='float32')\n",
    "bias_input = Input(\n",
    "    shape = (300, ),\n",
    "    dtype = 'float32')\n",
    "\n",
    "top_embedded_bt = Reshape((1, 768, ))(top_input_bt)\n",
    "bm_embedded_bt = Reshape((1, 768, ))(bm_input_bt)\n",
    "\n",
    "source_lstm_bt = Bidirectional(LSTM(NUM_LSTM_UNITS, return_sequences=True, recurrent_dropout = 0.3))\n",
    "shared_lstm_bt = Bidirectional(LSTM(NUM_LSTM_UNITS, activation='tanh', recurrent_dropout = 0.3))\n",
    "top_source_bt = source_lstm_bt(top_embedded_bt)\n",
    "bm_source_bt = source_lstm_bt(bm_embedded_bt)\n",
    "\n",
    "source_comb_bt = concatenate(\n",
    "    [top_source_bt, bm_source_bt],\n",
    "    axis=-1\n",
    "    )\n",
    "lstm_ops_bt = shared_lstm_bt(source_comb_bt)  #300D vector\n",
    "\n",
    "#merged = Add()([top_output, bm_output])\n",
    "#merged_bd = Add()([lstm_ops, bias_input])\n",
    "\n",
    "# Bert and Normal Combination\n",
    "comb_features = concatenate(\n",
    "    [lstm_ops_wd+lstm_ops_bt, lstm_ops_wd-lstm_ops_bt, lstm_ops_wd*lstm_ops_bt],\n",
    "    axis=-1\n",
    "    )\n",
    "\n",
    "comb_features_cs = concatenate(\n",
    "    [lstm_ops_wd+lstm_ops_bt+bias_input, lstm_ops_wd*lstm_ops_bt*bias_input],\n",
    "    axis=-1\n",
    "    )\n",
    "\n",
    "pre_nv = Dense(\n",
    "    units=64, \n",
    "    activation='tanh',\n",
    "    name = 'pre_nv')(comb_features)\n",
    "\n",
    "pre_em = Dense(\n",
    "    units=64, \n",
    "    activation='tanh',\n",
    "    name = 'pre_em')(comb_features)\n",
    "\n",
    "pre_st = Dense(\n",
    "    units=64, \n",
    "    activation='tanh',\n",
    "    name = 'pre_st')(comb_features)\n",
    "\n",
    "pre_cs = Dense(\n",
    "    units=64, \n",
    "    activation='tanh',\n",
    "    name = 'pre_cs')(comb_features_cs)\n",
    "\n",
    "dense_nv =  Dense(\n",
    "    units=NUM_CLASSES, \n",
    "    activation='softmax',\n",
    "    name = 'nv')\n",
    "\n",
    "dense_em =  Dense(\n",
    "    units=NUM_CLASSES, \n",
    "    activation='softmax',\n",
    "    name = 'em')\n",
    "\n",
    "dense_st =  Dense(\n",
    "    units=NUM_CLASSES, \n",
    "    activation='softmax',\n",
    "    name = 'st')\n",
    "\n",
    "dense_cs =  Dense(\n",
    "    units=NUM_CLASSES, \n",
    "    activation='softmax',\n",
    "    name = 'cs')\n",
    "\n",
    "predictions_nv = dense_nv(pre_nv)\n",
    "predictions_em = dense_em(pre_em)\n",
    "predictions_st = dense_st(pre_st)\n",
    "predictions_cs = dense_cs(pre_cs)\n",
    "\n",
    "model = Model(\n",
    "    inputs=[top_input_wd, bm_input_wd, top_input_bt, bm_input_bt, bias_input], \n",
    "    outputs=[predictions_nv, predictions_em, predictions_st, predictions_cs])\n",
    "\n",
    "model.summary()"
   ]
  },
  {
   "cell_type": "code",
   "execution_count": null,
   "metadata": {
    "id": "Bnou2lmihAHb"
   },
   "outputs": [],
   "source": [
    "from keras.optimizers import Adam\n",
    "from tensorflow.keras.callbacks import ModelCheckpoint\n",
    "lr = 1e-3\n",
    "opt = Adam(lr=lr, decay=lr/50)\n",
    "model.compile(\n",
    "    optimizer='adam',\n",
    "    loss={'nv':'categorical_crossentropy', 'em':'categorical_crossentropy', 'st':'categorical_crossentropy', 'cs':'categorical_crossentropy'},\n",
    "    loss_weights={'nv':1, 'em':0, 'st':1, 'cs': 1},\n",
    "    metrics=['accuracy'])\n",
    "checkpointer = ModelCheckpoint(filepath='multitask_csbias.h5', verbose=1, save_best_only=True)"
   ]
  },
  {
   "cell_type": "code",
   "execution_count": null,
   "metadata": {},
   "outputs": [],
   "source": [
    "# MultiTask BERT Model\n",
    "BATCH_SIZE = 256\n",
    "NUM_EPOCHS = 50\n",
    "stop = [EarlyStopping(monitor='val_loss', patience=0.001)]\n",
    "history = model.fit(x=[x1_train, x2_train, x1_train_bert, x2_train_bert, train_bias],\n",
    "                    y=[y_train_nv, y_train_em, y_train_st, y_train_cs],\n",
    "                    batch_size=BATCH_SIZE,\n",
    "                    epochs=NUM_EPOCHS,\n",
    "                    validation_data=(\n",
    "                      [x1_val, x2_val, x1_val_bert, x2_val_bert, val_bias], \n",
    "                      [y_val_nv, y_val_em, y_val_st, y_val_cs]\n",
    "                    ),\n",
    "                    shuffle=True,\n",
    "                    callbacks=[stop, checkpointer],\n",
    "          )"
   ]
  },
  {
   "cell_type": "code",
   "execution_count": null,
   "metadata": {
    "id": "2fvWrawHkiFy"
   },
   "outputs": [],
   "source": [
    "# Result Labels\n",
    "res_df = pd.DataFrame()"
   ]
  },
  {
   "cell_type": "code",
   "execution_count": null,
   "metadata": {
    "id": "lk9r8aMwkZ4f"
   },
   "outputs": [],
   "source": [
    "from sklearn import metrics\n",
    "from sklearn.metrics import classification_report\n",
    "predictions = model.predict(\n",
    "    [X1_test, X2_test, pre_bert_cs_test, hyp_bert_cs_test, test_bias])"
   ]
  },
  {
   "cell_type": "code",
   "execution_count": null,
   "metadata": {
    "colab": {
     "base_uri": "https://localhost:8080/"
    },
    "id": "4bfXPELQkauS",
    "outputId": "163d4c91-a653-4f36-ba73-2c500d9a4626"
   },
   "outputs": [
    {
     "name": "stdout",
     "output_type": "stream",
     "text": [
      "(4, 2494, 2)\n",
      "(2494, 2)\n",
      "(2494, 2)\n",
      "(2494, 2)\n",
      "(2494, 2)\n"
     ]
    }
   ],
   "source": [
    "print(np.stack(predictions).shape)\n",
    "print(predictions[0].shape)\n",
    "print(predictions[1].shape)\n",
    "print(predictions[2].shape)\n",
    "print(predictions[3].shape)"
   ]
  },
  {
   "cell_type": "code",
   "execution_count": null,
   "metadata": {},
   "outputs": [],
   "source": [
    "y_pred = [idx for idx in np.argmax(predictions[3], axis=1)]\n",
    "res_df['Fake_News_Labels'] = y_pred\n",
    "print('CS Accuracy is')\n",
    "print(metrics.accuracy_score(Y_cs_test, y_pred)*100)\n",
    "print(classification_report(Y_cs_test, y_pred, target_names = ['against', 'for']))"
   ]
  },
  {
   "cell_type": "code",
   "execution_count": null,
   "metadata": {},
   "outputs": [],
   "source": [
    "y_pred = [idx for idx in np.argmax(predictions[2], axis=1)]\n",
    "res_df['Sentiment_Labels'] = y_pred\n",
    "print('Sentiment Accuracy is')\n",
    "print(metrics.accuracy_score(Y_st_test, y_pred)*100)\n",
    "print(classification_report(Y_st_test, y_pred, target_names = ['same', 'different']))"
   ]
  },
  {
   "cell_type": "code",
   "execution_count": null,
   "metadata": {},
   "outputs": [],
   "source": [
    "y_pred = [idx for idx in np.argmax(predictions[1], axis=1)]\n",
    "res_df['Emotion_Labels'] = y_pred\n",
    "print('Emotion Accuracy is')\n",
    "print(metrics.accuracy_score(Y_em_test, y_pred)*100)\n",
    "print(classification_report(Y_em_test, y_pred, target_names = ['true', 'false']))"
   ]
  },
  {
   "cell_type": "code",
   "execution_count": null,
   "metadata": {},
   "outputs": [],
   "source": [
    "y_pred = [idx for idx in np.argmax(predictions[0], axis=1)]\n",
    "res_df['Novelty_Labels'] = y_pred\n",
    "print('NV Accuracy is')\n",
    "print(metrics.accuracy_score(Y_nv_test, y_pred)*100)\n",
    "print(classification_report(Y_nv_test, y_pred, target_names = ['novel', 'duplicate']))"
   ]
  },
  {
   "cell_type": "code",
   "execution_count": null,
   "metadata": {
    "id": "6R50MKz5k41j"
   },
   "outputs": [],
   "source": [
    "# Saving the labels\n",
    "res_df.to_csv(\"CS_MtaskRes.csv\", index = False)"
   ]
  }
 ],
 "metadata": {
  "accelerator": "GPU",
  "colab": {
   "collapsed_sections": [],
   "name": "Sentiment_CS_Multitask.ipynb",
   "provenance": []
  },
  "kernelspec": {
   "display_name": "Python 3",
   "language": "python",
   "name": "python3"
  },
  "language_info": {
   "codemirror_mode": {
    "name": "ipython",
    "version": 3
   },
   "file_extension": ".py",
   "mimetype": "text/x-python",
   "name": "python",
   "nbconvert_exporter": "python",
   "pygments_lexer": "ipython3",
   "version": "3.7.3"
  }
 },
 "nbformat": 4,
 "nbformat_minor": 1
}
